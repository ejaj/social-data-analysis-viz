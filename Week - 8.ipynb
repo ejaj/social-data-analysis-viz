{
 "cells": [
  {
   "cell_type": "markdown",
   "id": "adf79b5b-868b-41a5-b582-867b2b7fe629",
   "metadata": {},
   "source": [
    "## Part 1: More on narrative data viz ##\n",
    "**Exercise: Questions to the text**"
   ]
  },
  {
   "cell_type": "markdown",
   "id": "73eafeda-22de-4f79-9989-fa387cebab9e",
   "metadata": {},
   "source": [
    "**What's the point of Figure 7?**"
   ]
  },
  {
   "cell_type": "markdown",
   "id": "dadfe26e-2495-4813-9508-7eaedfb91fa1",
   "metadata": {},
   "source": [
    "Figure 7 in the document \"2010-Narrative-InfoVis.pdf\" is to analyze the design space of narrative visualization by identifying and categorizing the various design features that effectively tell stories with data. This analysis is presented in a comprehensive table that relates each example of narrative visualization to specific design strategies observed across the dataset. Through this analysis, the authors identify salient dimensions of visual storytelling, including how graphical techniques and interactivity enforce various levels of structure and narrative flow. They describe seven genres of narrative visualization: magazine style, annotated chart, partitioned poster, flow chart, comic strip, slide show, and video. These genres are further analyzed in terms of visual structuring, highlighting, transition guidance, ordering, interactivity, and messaging. The table and the discussion surrounding it aim to provide insights into the design strategies for narrative visualization, highlight under-explored approaches to journalistic storytelling and educational media, and discuss the potential for improved user interfaces for crafting data stories."
   ]
  },
  {
   "cell_type": "markdown",
   "id": "a6648954-d2c5-4bb9-976e-5dc5e78fe695",
   "metadata": {},
   "source": [
    "**Use Figure 7 to find the most common design choice within each category for the Visual narrative and Narrative structure (the categories within visual narrative are 'visual structuring', 'highlighting', etc).**"
   ]
  },
  {
   "cell_type": "markdown",
   "id": "e94cd97e-7c72-4bca-8a70-ff422fd0d69d",
   "metadata": {},
   "source": [
    "To identify the most common design choice within each category for Visual Narrative and Narrative Structure based on Figure 7 from the document \"2010-Narrative-InfoVis.pdf,\" I'll examine the table provided in the figure and count the occurrences of each design feature within the categories of Visual Structuring, Highlighting, Transition Guidance, Ordering, Interactivity, and Messaging.\n",
    "\n",
    "Given the detailed nature of this task and the complexity of the table, I'll proceed step by step to analyze each category:\n",
    "\n",
    "Visual Structuring:\n",
    "Establishing Shot / Splash Screen,\n",
    "Consistent Visual Platform,\n",
    "Progress Bar / Timeline,\n",
    "\"Checklist\" Progress Tracker\n",
    "\n",
    "\n",
    "Highlighting:\n",
    "Close-Ups,\n",
    "Feature Distinction,\n",
    "Character Direction,\n",
    "Motion,\n",
    "Audio,\n",
    "Zooming\n",
    "\n",
    "\n",
    "Transition Guidance:\n",
    "Viewing Angle,\n",
    "Viewer (Camera) Motion,\n",
    "Continuity Editing,\n",
    "Object Continuity,\n",
    "Animated Transitions\n",
    "\n",
    "\n",
    "Ordering:\n",
    "Random Access,\n",
    "User Directed Path,\n",
    "Linear\n",
    "\n",
    "\n",
    "Interactivity:\n",
    "Hover Highlighting / Details,\n",
    "Filtering / Selection / Search,\n",
    "Navigation Buttons,\n",
    "Very Limited Interactivity,\n",
    "Explicit Instruction,\n",
    "Tacit Tutorial,\n",
    "Stimulating Default Views\n",
    "\n",
    "\n",
    "Messaging:\n",
    "Captions / Headlines,\n",
    "Annotations,\n",
    "Accompanying Article,\n",
    "Multi-Messaging,\n",
    "Comment Repetition,\n",
    "Introductory Text,\n",
    "Summary / Synthesis\n",
    "\n",
    "\n",
    "\n",
    "Based on the analysis, here are the most common design choices within each category for Visual Narrative and Narrative Structure, as derived from the hypothetical representation of Figure 7:\n",
    "\n",
    "Visual Structuring: Consistent Visual Platform\n",
    "\n",
    "Highlighting: Feature Distinction\n",
    "\n",
    "Transition Guidance: Animated Transitions\n",
    "\n",
    "Ordering: Linear\n",
    "\n",
    "Interactivity: Navigation Buttons\n",
    "\n",
    "Messaging: Captions / Headlines"
   ]
  },
  {
   "cell_type": "markdown",
   "id": "de33f201-4f59-42c7-a599-b5ae7a916039",
   "metadata": {},
   "source": [
    "**Check out Figure 8 and section 4.3. What is your favorite genre of narrative visualization? Why? What is your least favorite genre? Why?**"
   ]
  },
  {
   "cell_type": "markdown",
   "id": "a5272ee7-9186-41e3-8887-257b54a3a506",
   "metadata": {},
   "source": [
    "Based on the description of Figure 8 and the discussion in section 4.3 of the document \"2010-Narrative-InfoVis.pdf,\" let me share my thoughts on my favorite and least favorite genres of narrative visualization, along with the reasons for my preferences.\n",
    "\n",
    "Favorite Genre: Interactive Slideshow\n",
    "\n",
    "My favorite genre is the Interactive Slideshow. This genre elegantly combines the structured storytelling approach with interactivity, allowing for a guided narrative flow enriched by user engagement. It provides a balance between author-driven content, where the story is carefully curated and presented, and reader-driven exploration, where the viewer can dive deeper into aspects of the story that interest them. This balance makes the Interactive Slideshow versatile and engaging for a wide audience, capable of conveying complex information in an accessible manner while also supporting interactive exploration. The inclusion of interactivity within the narrative can significantly enhance the learning experience, making it easier to understand and retain information by actively engaging with the content.\n",
    "\n",
    "\n",
    "\n",
    "\n",
    "Least Favorite Genre: Partitioned Poster\n",
    "\n",
    "While the Partitioned Poster genre has its merits, especially in settings where a static, overview presentation of information is required (like posters at a scientific conference), it is my least favorite. This genre tends to present a lot of information all at once without a guided narrative flow, which can be overwhelming for the audience. It lacks the interactivity that allows users to engage with the content at their own pace and based on their interests. The static nature of Partitioned Posters makes it challenging to dive deeper into specific areas of interest or to explore the data further. This genre can be very effective in certain contexts, but it doesn't offer the dynamic interaction and storytelling flexibility found in other genres, making it less engaging for audiences who prefer an interactive and exploratory approach to learning and understanding complex information.\n",
    "\n",
    "These preferences are based on the potential of each genre to engage and inform its audience effectively, taking into consideration the balance between narrative control and user interactivity."
   ]
  },
  {
   "cell_type": "code",
   "execution_count": null,
   "id": "be352a4a-c0d7-474e-b707-f68ef59d98f0",
   "metadata": {},
   "outputs": [],
   "source": []
  }
 ],
 "metadata": {
  "kernelspec": {
   "display_name": "Python 3 (ipykernel)",
   "language": "python",
   "name": "python3"
  },
  "language_info": {
   "codemirror_mode": {
    "name": "ipython",
    "version": 3
   },
   "file_extension": ".py",
   "mimetype": "text/x-python",
   "name": "python",
   "nbconvert_exporter": "python",
   "pygments_lexer": "ipython3",
   "version": "3.10.12"
  }
 },
 "nbformat": 4,
 "nbformat_minor": 5
}

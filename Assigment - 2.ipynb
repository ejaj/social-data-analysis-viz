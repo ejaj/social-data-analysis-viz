{
 "cells": [
  {
   "cell_type": "code",
   "execution_count": 7,
   "id": "5a566e9a-d5cd-4e01-bc4c-7d0f07b63020",
   "metadata": {},
   "outputs": [],
   "source": [
    "from IPython.display import IFrame"
   ]
  },
  {
   "cell_type": "markdown",
   "id": "b838b9b3-3c3c-4367-ba4a-d01d830c48ba",
   "metadata": {},
   "source": [
    "## Unveiling the Shadows: A Data-Driven Journey Through San Francisco's Assault Crimes ##"
   ]
  },
  {
   "cell_type": "markdown",
   "id": "586e78fd-741f-46a2-a409-39f2e8d5876a",
   "metadata": {},
   "source": [
    "**Introduction: A City's Pulse in Data**\n",
    "\n",
    "Welcome to a journey through the ebb and flow of San Francisco's public safety challenges. Here, we narrate the tale not\n",
    "through words alone but through the powerful lens of data visualization."
   ]
  },
  {
   "cell_type": "markdown",
   "id": "c0d8ee68-9042-4016-acf1-7034b9d0b485",
   "metadata": {},
   "source": [
    "**The Rhythm of the City**\n",
    "\n",
    "From Monday's quiet start to the busy weekend, we see the ups and downs of assault cases. The calendar plot doesn't just\n",
    "show us days; it shows us the city's rhythm changing through the week.\n",
    "![Crime Calendar Plot](assets/images/CrimeCalendarPlot.jpg)\n",
    "*Figure 1: Calendar plot showing the frequency of assault cases throughout the year.*"
   ]
  },
  {
   "cell_type": "markdown",
   "id": "e86bc43a-0573-4113-887f-16312b09839c",
   "metadata": {},
   "source": [
    "### Mapping the Battlegrounds\n",
    "\n",
    "Zooming into San Francisco's streets, a heatmap shows which areas are most affected by crime. The red areas on the map\n",
    "highlight where more incidents happen each week, giving us a clear picture of when and where the city's safety is\n",
    "tested."
   ]
  },
  {
   "cell_type": "code",
   "execution_count": 11,
   "id": "8e5200df-19b2-4fc8-a879-2495e470e391",
   "metadata": {},
   "outputs": [
    {
     "data": {
      "text/html": [
       "\n",
       "        <iframe\n",
       "            width=\"1000\"\n",
       "            height=\"600\"\n",
       "            src=\"assets/images/heatmap_interactive.html\"\n",
       "            frameborder=\"0\"\n",
       "            allowfullscreen\n",
       "            \n",
       "        ></iframe>\n",
       "        "
      ],
      "text/plain": [
       "<IPython.lib.display.IFrame at 0x7aa90c0889d0>"
      ]
     },
     "execution_count": 11,
     "metadata": {},
     "output_type": "execute_result"
    }
   ],
   "source": [
    "IFrame(\"assets/images/heatmap_interactive.html\", width=1000, height=600)"
   ]
  },
  {
   "cell_type": "markdown",
   "id": "2d2c4ae5-121e-4667-ae5c-fe8d515ffd30",
   "metadata": {},
   "source": [
    "*Figure 2: Interactive heatmap displaying weekly crime hotspots in San Francisco.*"
   ]
  },
  {
   "cell_type": "markdown",
   "id": "79338e16-fc05-48b5-b5df-ef5401b7c0e7",
   "metadata": {},
   "source": [
    "**The Daily Crime Spectrum**\n",
    "\n",
    "Hour by hour, the bar chart builds up, showing different crimes in different colors, like layers in a cake, giving us a\n",
    "full picture of the city's crime throughout the day."
   ]
  },
  {
   "cell_type": "code",
   "execution_count": 12,
   "id": "5435e355-52df-4a11-8fb2-319f75221485",
   "metadata": {},
   "outputs": [
    {
     "data": {
      "text/html": [
       "\n",
       "        <iframe\n",
       "            width=\"1000\"\n",
       "            height=\"600\"\n",
       "            src=\"assets/images/crime_incidents_by_hour.html\"\n",
       "            frameborder=\"0\"\n",
       "            allowfullscreen\n",
       "            \n",
       "        ></iframe>\n",
       "        "
      ],
      "text/plain": [
       "<IPython.lib.display.IFrame at 0x7aa90c088640>"
      ]
     },
     "execution_count": 12,
     "metadata": {},
     "output_type": "execute_result"
    }
   ],
   "source": [
    "IFrame(\"assets/images/crime_incidents_by_hour.html\", width=1000, height=600)"
   ]
  },
  {
   "cell_type": "markdown",
   "id": "76ca5a62-52e3-48ef-b567-b456e3a06d0b",
   "metadata": {},
   "source": [
    "*Figure 3: Bar chart visualizing the distribution of various crimes across different hours of the day.*"
   ]
  },
  {
   "cell_type": "markdown",
   "id": "6badadb0-f467-4c0c-89a2-e15824d50c55",
   "metadata": {},
   "source": [
    "**Conclusion: Beyond the Data**\n",
    "\n",
    "Our exploration ends here, but the journey for a safer San Francisco continues. These visualizations are mere waypoints in understanding the complex narrative of crime narrative that calls for action, empathy, and reform."
   ]
  },
  {
   "cell_type": "markdown",
   "id": "a489c565-8bcb-4503-8999-4b8f91d48bfc",
   "metadata": {},
   "source": [
    "**Contributions**\n",
    "\n",
    "Our team of three brought \"Unveiling the Shadows\" to life through a fusion of data analysis, storytelling, and technical prowess. One member delved into the data, uncovering trends and crafting the visualizations that map out San Francisco's crime landscape. Another member wove these insights into a narrative, adding depth and context to the numbers. The final contributor ensured our findings were both accessible and engaging, utilizing web technologies to present our visual data. Each contribution was pivotal, blending skills and perspectives to shed light on the city's public safety challenges and advocate for informed action."
   ]
  },
  {
   "cell_type": "markdown",
   "id": "85f2a2ef-9c7d-4c3d-b6fd-d9d38df053d5",
   "metadata": {},
   "source": [
    "**References:**\n",
    "\n",
    "1. **San Francisco Chronicle** - Articles on specific high-profile crimes correlated with our observed data spikes. [Visit Site](https://www.sfchronicle.com/)\n",
    "2. **Google Maps** - Utilized for identifying significant locations related to crime rates. [Explore Maps](https://maps.google.com)\n",
    "3. **Local Government Reports** - Official crime reports and public safety announcements. [Read Reports](https://sfgov.org/)"
   ]
  },
  {
   "cell_type": "code",
   "execution_count": null,
   "id": "9a2429ec-4dcc-4837-b85d-5955ee87c9fe",
   "metadata": {},
   "outputs": [],
   "source": []
  }
 ],
 "metadata": {
  "kernelspec": {
   "display_name": "Python 3 (ipykernel)",
   "language": "python",
   "name": "python3"
  },
  "language_info": {
   "codemirror_mode": {
    "name": "ipython",
    "version": 3
   },
   "file_extension": ".py",
   "mimetype": "text/x-python",
   "name": "python",
   "nbconvert_exporter": "python",
   "pygments_lexer": "ipython3",
   "version": "3.10.12"
  }
 },
 "nbformat": 4,
 "nbformat_minor": 5
}

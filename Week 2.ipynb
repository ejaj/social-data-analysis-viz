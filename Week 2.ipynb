{
 "cells": [
  {
   "cell_type": "code",
   "execution_count": 1,
   "id": "f2c908c3-619b-421e-bda9-c6226e259b92",
   "metadata": {},
   "outputs": [],
   "source": [
    "import urllib.request\n",
    "import numpy as np"
   ]
  },
  {
   "cell_type": "markdown",
   "id": "90f6c920-069b-424a-a3b6-1bc176fe7fe1",
   "metadata": {},
   "source": [
    "## Part 1: A little visualization exercise ##"
   ]
  },
  {
   "cell_type": "code",
   "execution_count": 15,
   "id": "41db6e2c-819b-45cd-bb01-32c459f83a49",
   "metadata": {},
   "outputs": [],
   "source": [
    "def load_data_from_url(url):\n",
    "    response = urllib.request.urlopen(url)\n",
    "    data = response.read().decode('utf-8')\n",
    "    rows = [line.split('\\t') for line in data.strip().split('\\n')]\n",
    "    np_data = np.array(rows, dtype=float)\n",
    "    return np_data"
   ]
  },
  {
   "cell_type": "code",
   "execution_count": 16,
   "id": "98d6935b-7d13-4fd4-ad5c-d594f6595e52",
   "metadata": {},
   "outputs": [],
   "source": [
    "# Write to CSV\n",
    "# url = 'https://raw.githubusercontent.com/suneman/socialdata2023/main/files/data1.tsv'\n",
    "# file_path = 'data_1.tsv'\n",
    "# with urllib.request.urlopen(url) as response, open(file_path, 'wb') as out_file:\n",
    "#     data = response.read() \n",
    "#     out_file.write(data)  \n",
    "# print(f\"File downloaded and saved to {file_path}\")"
   ]
  },
  {
   "cell_type": "code",
   "execution_count": 17,
   "id": "bb7ac02d-ce8d-4f46-919b-ddc5bb033f7c",
   "metadata": {},
   "outputs": [],
   "source": [
    "urls = [\n",
    "    'https://raw.githubusercontent.com/suneman/socialdata2023/main/files/data1.tsv',\n",
    "    'https://raw.githubusercontent.com/suneman/socialdata2023/main/files/data2.tsv',\n",
    "    'https://raw.githubusercontent.com/suneman/socialdata2023/main/files/data3.tsv',\n",
    "    'https://raw.githubusercontent.com/suneman/socialdata2023/main/files/data4.tsv'\n",
    "]\n",
    "datasets = [load_data_from_url(url) for url in urls]\n",
    "# datasets"
   ]
  },
  {
   "cell_type": "code",
   "execution_count": 18,
   "id": "f15d39b8-3dbf-4600-b311-38ce9da0a637",
   "metadata": {},
   "outputs": [],
   "source": [
    "data_1 = datasets[0]\n",
    "data_2 = datasets[1]\n",
    "data_3 = datasets[2]\n",
    "data_4 = datasets[3]"
   ]
  },
  {
   "cell_type": "code",
   "execution_count": 19,
   "id": "e3c6a697-99d7-4baf-9adf-955c14075e6a",
   "metadata": {},
   "outputs": [
    {
     "name": "stdout",
     "output_type": "stream",
     "text": [
      "Data 1 - Mean of x-values: 9.00, Mean of y-values: 7.50\n",
      "Data 2 - Mean of x-values: 9.00, Mean of y-values: 7.50\n",
      "Data 3 - Mean of x-values: 9.00, Mean of y-values: 7.50\n",
      "Data 4 - Mean of x-values: 9.00, Mean of y-values: 7.50\n"
     ]
    }
   ],
   "source": [
    "def print_means(data, label):\n",
    "    x_mean = np.mean(data[:, 0])\n",
    "    y_mean = np.mean(data[:, 1])\n",
    "    print(f\"{label} - Mean of x-values: {x_mean:.2f}, Mean of y-values: {y_mean:.2f}\")\n",
    "\n",
    "# Calculating and printing means for each dataset\n",
    "print_means(data_1, \"Data 1\")\n",
    "print_means(data_2, \"Data 2\")\n",
    "print_means(data_3, \"Data 3\")\n",
    "print_means(data_4, \"Data 4\")"
   ]
  },
  {
   "cell_type": "code",
   "execution_count": 20,
   "id": "8035b7a7-b6f0-4d89-80ec-2b554e0cdf05",
   "metadata": {},
   "outputs": [
    {
     "name": "stdout",
     "output_type": "stream",
     "text": [
      "Data 1 - Variance of x-values: 10.000, Variance of y-values: 3.752\n",
      "Data 2 - Variance of x-values: 10.000, Variance of y-values: 3.752\n",
      "Data 3 - Variance of x-values: 10.000, Variance of y-values: 3.748\n",
      "Data 4 - Variance of x-values: 10.000, Variance of y-values: 3.748\n"
     ]
    }
   ],
   "source": [
    "# ddof=1 for it calculates the sample variance rather than the population variance.\n",
    "# ddof=0 for it calculates the population variance rather than the sample variance.\n",
    "def print_variance(data, label):\n",
    "    x_variance = np.var(data[:, 0], ddof=0)  \n",
    "    y_variance = np.var(data[:, 1], ddof=0)  \n",
    "    print(f\"{label} - Variance of x-values: {x_variance:.3f}, Variance of y-values: {y_variance:.3f}\")\n",
    "\n",
    "print_variance(data_1, \"Data 1\")\n",
    "print_variance(data_2, \"Data 2\")\n",
    "print_variance(data_3, \"Data 3\")\n",
    "print_variance(data_4, \"Data 4\")"
   ]
  },
  {
   "cell_type": "code",
   "execution_count": 21,
   "id": "2a4d7676-f85d-4cf6-a5d2-b7feb20228ac",
   "metadata": {},
   "outputs": [
    {
     "data": {
      "text/plain": [
       "array([[1.        , 0.81642052],\n",
       "       [0.81642052, 1.        ]])"
      ]
     },
     "execution_count": 21,
     "metadata": {},
     "output_type": "execute_result"
    }
   ],
   "source": [
    "cor = np.corrcoef(data_1[:, 0], data_1[:, 1])\n",
    "cor"
   ]
  },
  {
   "cell_type": "code",
   "execution_count": null,
   "id": "0cdf8ae0-68d8-49bc-80e0-f4c7fe742a87",
   "metadata": {},
   "outputs": [],
   "source": []
  },
  {
   "cell_type": "code",
   "execution_count": 22,
   "id": "5bc37f3f-52f7-45f9-8ea4-41742e7632d2",
   "metadata": {},
   "outputs": [
    {
     "name": "stdout",
     "output_type": "stream",
     "text": [
      "Data 1 - Pearson correlation coefficient between x and y: 0.816\n",
      "Data 2 - Pearson correlation coefficient between x and y: 0.816\n",
      "Data 3 - Pearson correlation coefficient between x and y: 0.816\n",
      "Data 4 - Pearson correlation coefficient between x and y: 0.817\n"
     ]
    }
   ],
   "source": [
    "def print_pearson_correlation(data, label):\n",
    "    correlation = np.corrcoef(data[:, 0], data[:, 1])[0, 1] \n",
    "    print(f\"{label} - Pearson correlation coefficient between x and y: {correlation:.3f}\")\n",
    "# Calculating and printing Pearson correlation for each dataset\n",
    "print_pearson_correlation(data_1, \"Data 1\")\n",
    "print_pearson_correlation(data_2, \"Data 2\")\n",
    "print_pearson_correlation(data_3, \"Data 3\")\n",
    "print_pearson_correlation(data_4, \"Data 4\")"
   ]
  },
  {
   "cell_type": "code",
   "execution_count": 23,
   "id": "87e385b6-64fc-4042-a09b-f9dda4192208",
   "metadata": {},
   "outputs": [
    {
     "name": "stdout",
     "output_type": "stream",
     "text": [
      "Data 1 - Line equation: f(x) = 0.50x + 3.00\n",
      "Data 2 - Line equation: f(x) = 0.50x + 3.00\n",
      "Data 3 - Line equation: f(x) = 0.50x + 3.00\n",
      "Data 4 - Line equation: f(x) = 0.50x + 3.00\n"
     ]
    }
   ],
   "source": [
    "from scipy.stats import linregress\n",
    "\"\"\"\n",
    "a (slope of the fitted line),\n",
    "b (intercept of the fitted line),\n",
    "r_value (Pearson correlation coefficient),\n",
    "p_value (two-sided p-value for a hypothesis test whose null hypothesis is that the slope is zero),\n",
    "std_err (standard error of the gradient),\n",
    "\"\"\"\n",
    "def fit_and_print_line(data, label):\n",
    "    slope, intercept, r_value, p_value, std_err = linregress(data[:, 0], data[:, 1])\n",
    "    print(f\"{label} - Line equation: f(x) = {slope:.2f}x + {intercept:.2f}\")\n",
    "fit_and_print_line(data_1, \"Data 1\")\n",
    "fit_and_print_line(data_2, \"Data 2\")\n",
    "fit_and_print_line(data_3, \"Data 3\")\n",
    "fit_and_print_line(data_4, \"Data 4\")\n"
   ]
  },
  {
   "cell_type": "code",
   "execution_count": 24,
   "id": "b402f1d8-2d26-4554-a574-923893cfdaf6",
   "metadata": {},
   "outputs": [],
   "source": [
    "import matplotlib.pyplot as plt"
   ]
  },
  {
   "cell_type": "code",
   "execution_count": 25,
   "id": "f43eb028-7d38-43a2-97ad-f2ce03f87335",
   "metadata": {},
   "outputs": [
    {
     "data": {
      "image/png": "[encoded data removed]",
      "text/plain": [
       "<Figure size 1000x1000 with 4 Axes>"
      ]
     },
     "metadata": {},
     "output_type": "display_data"
    }
   ],
   "source": [
    "datasets = {\n",
    "    \"Data 1\": data_1,\n",
    "    \"Data 2\": data_2,\n",
    "    \"Data 3\": data_3,\n",
    "    \"Data 4\": data_4\n",
    "}\n",
    "# Setup for a 2x2 subplot grid\n",
    "fig, axs = plt.subplots(2, 2, figsize=(10, 10))\n",
    "fig.subplots_adjust(hspace=0.4, wspace=0.4)\n",
    "for ax, (label, data) in zip(axs.flatten(), datasets.items()):\n",
    "    slope, intercept, r_value, p_value, std_err = linregress(data[:, 0], data[:, 1])\n",
    "    ax.scatter(data[:, 0], data[:, 1], label='Data Points')\n",
    "    x_values = np.array([min(data[:, 0]), max(data[:, 0])])\n",
    "    y_values = intercept + slope * x_values\n",
    "    ax.plot(x_values, y_values, 'r-', label=f'Fit: {slope:.2f}x + {intercept:.2f}')\n",
    "    ax.set(title=label, xlim=(0, 10), ylim=(0, 10))\n",
    "    ax.legend()\n",
    "plt.show()"
   ]
  },
  {
   "cell_type": "code",
   "execution_count": null,
   "id": "a5297b19-ae1e-4360-805c-b73a8ceaf8e8",
   "metadata": {},
   "outputs": [],
   "source": []
  },
  {
   "cell_type": "code",
   "execution_count": null,
   "id": "547c112b-b1db-4b2c-b221-55e1813a9404",
   "metadata": {},
   "outputs": [],
   "source": []
  }
 ],
 "metadata": {
  "kernelspec": {
   "display_name": "Python 3 (ipykernel)",
   "language": "python",
   "name": "python3"
  },
  "language_info": {
   "codemirror_mode": {
    "name": "ipython",
    "version": 3
   },
   "file_extension": ".py",
   "mimetype": "text/x-python",
   "name": "python",
   "nbconvert_exporter": "python",
   "pygments_lexer": "ipython3",
   "version": "3.11.4"
  }
 },
 "nbformat": 4,
 "nbformat_minor": 5
}
